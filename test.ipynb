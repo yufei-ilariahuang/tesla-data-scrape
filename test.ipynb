{
 "cells": [
  {
   "cell_type": "code",
   "execution_count": 2,
   "metadata": {},
   "outputs": [],
   "source": [
    "def scrape_tesla_locations():\n",
    "    # Set up the Chrome WebDriver\n",
    "    options = webdriver.ChromeOptions()\n",
    "    options.add_experimental_option('excludeSwitches', ['enable-automation'])\n",
    "    driver = webdriver.Chrome(options=options)\n",
    "    \n",
    "    # Open the main page\n",
    "    driver.get('https://www.tesla.com/findus/list')\n",
    "    try:\n",
    "        WebDriverWait(driver, 10).until(EC.presence_of_element_located((By.CSS_SELECTOR, 'h1')))\n",
    "        print(\"Page loaded successfully.\")\n",
    "    except TimeoutError:\n",
    "        print(\"Page load timed out.\")\n",
    "\n",
    "    # Find all the locations' links\n",
    "    all_links = driver.find_elements(By.XPATH, '//a')\n",
    "    base_url = 'https://www.tesla.com/findus/list/'\n",
    "    desired_links = []\n",
    "    for link in all_links:\n",
    "        if base_url in link.get_attribute('href'):\n",
    "            desired_links.append(link.get_attribute('href'))\n",
    "\n",
    "    driver.quit()\n",
    "\n",
    "    return desired_links"
   ]
  },
  {
   "cell_type": "code",
   "execution_count": 1,
   "metadata": {},
   "outputs": [],
   "source": [
    "import json\n",
    "from selenium import webdriver\n",
    "from selenium.webdriver.common.by import By\n",
    "from selenium.webdriver.support.ui import WebDriverWait\n",
    "from selenium.webdriver.support import expected_conditions as EC\n",
    "from selenium.common.exceptions import NoSuchElementException"
   ]
  },
  {
   "cell_type": "code",
   "execution_count": 4,
   "metadata": {},
   "outputs": [
    {
     "name": "stdout",
     "output_type": "stream",
     "text": [
      "Page loaded successfully.\n"
     ]
    }
   ],
   "source": [
    "list_link = scrape_tesla_locations()"
   ]
  },
  {
   "cell_type": "code",
   "execution_count": 5,
   "metadata": {},
   "outputs": [
    {
     "data": {
      "text/plain": [
       "298"
      ]
     },
     "execution_count": 5,
     "metadata": {},
     "output_type": "execute_result"
    }
   ],
   "source": [
    "len(list_link)"
   ]
  },
  {
   "cell_type": "code",
   "execution_count": 9,
   "metadata": {},
   "outputs": [],
   "source": [
    "def scrape_tesla_infos(driver):\n",
    "    # Wait for the page to load completely\n",
    "    try:\n",
    "        WebDriverWait(driver, 10).until(EC.presence_of_element_located((By.CSS_SELECTOR, 'h1')))\n",
    "        print(\"Page loaded successfully.\")\n",
    "    except TimeoutError:\n",
    "        print(\"Page load timed out.\")\n",
    "\n",
    "    # Extract title\n",
    "    try:\n",
    "        # Extract title\n",
    "        titles = driver.find_element_by_xpath('/html/body/section/div/div/header/h1')\n",
    "    except NoSuchElementException:\n",
    "        print(\"Title element not found. Skipping this section.\")\n",
    "        return []\n",
    "\n",
    "\n",
    "    # Find all links and corresponding addresses\n",
    "    locations = driver.find_elements(By.CSS_SELECTOR, 'a[href*=\"/findus/location\"]')\n",
    "    addresses = driver.find_elements(By.CSS_SELECTOR, '.street-address-states')\n",
    "    postals = driver.find_elements(By.CSS_SELECTOR, '.locality-city-postal')\n",
    "\n",
    "    # Store the extracted information in a list of dictionaries\n",
    "    dict = [{\"title\": titles.text}]\n",
    "\n",
    "    for location, address, postal in zip(locations, addresses, postals):\n",
    "        info = {\n",
    "            \"location\": location.text,\n",
    "            \"url\": location.get_attribute('href'),\n",
    "            \"address\": address.text,\n",
    "            \"postal\": postal.text\n",
    "        }\n",
    "        dict.append(info)\n",
    "\n",
    "    return dict"
   ]
  },
  {
   "cell_type": "code",
   "execution_count": 10,
   "metadata": {},
   "outputs": [],
   "source": [
    "def scrape_and_integrate(data_lists, links):\n",
    "    desired_links = links\n",
    "    all_data = data_lists\n",
    "\n",
    "    # Set up the Chrome WebDriver\n",
    "    options = webdriver.ChromeOptions()\n",
    "    options.add_experimental_option('excludeSwitches', ['enable-automation'])\n",
    "    driver = webdriver.Chrome(options=options)\n",
    "\n",
    "    for link in desired_links:\n",
    "        driver.get(link)\n",
    "        single_web = scrape_tesla_infos(driver)\n",
    "        all_data.extend(single_web)\n",
    "\n",
    "    driver.quit()\n",
    "    return all_data"
   ]
  },
  {
   "cell_type": "code",
   "execution_count": 11,
   "metadata": {},
   "outputs": [
    {
     "name": "stdout",
     "output_type": "stream",
     "text": [
      "Page loaded successfully.\n"
     ]
    },
    {
     "ename": "AttributeError",
     "evalue": "'str' object has no attribute 'text'",
     "output_type": "error",
     "traceback": [
      "\u001b[0;31m---------------------------------------------------------------------------\u001b[0m",
      "\u001b[0;31mAttributeError\u001b[0m                            Traceback (most recent call last)",
      "Input \u001b[0;32mIn [11]\u001b[0m, in \u001b[0;36m<cell line: 1>\u001b[0;34m()\u001b[0m\n\u001b[0;32m----> 1\u001b[0m data_to_write \u001b[38;5;241m=\u001b[39m \u001b[43mscrape_and_integrate\u001b[49m\u001b[43m(\u001b[49m\u001b[43m[\u001b[49m\u001b[43m]\u001b[49m\u001b[43m,\u001b[49m\u001b[43m \u001b[49m\u001b[43mlist_link\u001b[49m\u001b[43m[\u001b[49m\u001b[43m:\u001b[49m\u001b[38;5;241;43m100\u001b[39;49m\u001b[43m]\u001b[49m\u001b[43m)\u001b[49m\n",
      "Input \u001b[0;32mIn [10]\u001b[0m, in \u001b[0;36mscrape_and_integrate\u001b[0;34m(data_lists, links)\u001b[0m\n\u001b[1;32m     10\u001b[0m \u001b[38;5;28;01mfor\u001b[39;00m link \u001b[38;5;129;01min\u001b[39;00m desired_links:\n\u001b[1;32m     11\u001b[0m     driver\u001b[38;5;241m.\u001b[39mget(link)\n\u001b[0;32m---> 12\u001b[0m     single_web \u001b[38;5;241m=\u001b[39m \u001b[43mscrape_tesla_infos\u001b[49m\u001b[43m(\u001b[49m\u001b[43mdriver\u001b[49m\u001b[43m)\u001b[49m\n\u001b[1;32m     13\u001b[0m     all_data\u001b[38;5;241m.\u001b[39mextend(single_web)\n\u001b[1;32m     15\u001b[0m driver\u001b[38;5;241m.\u001b[39mquit()\n",
      "Input \u001b[0;32mIn [9]\u001b[0m, in \u001b[0;36mscrape_tesla_infos\u001b[0;34m(driver)\u001b[0m\n\u001b[1;32m     21\u001b[0m postals \u001b[38;5;241m=\u001b[39m driver\u001b[38;5;241m.\u001b[39mfind_elements(By\u001b[38;5;241m.\u001b[39mCSS_SELECTOR, \u001b[38;5;124m'\u001b[39m\u001b[38;5;124m.locality-city-postal\u001b[39m\u001b[38;5;124m'\u001b[39m)\n\u001b[1;32m     23\u001b[0m \u001b[38;5;66;03m# Store the extracted information in a list of dictionaries\u001b[39;00m\n\u001b[0;32m---> 24\u001b[0m \u001b[38;5;28mdict\u001b[39m \u001b[38;5;241m=\u001b[39m [{\u001b[38;5;124m\"\u001b[39m\u001b[38;5;124mtitle\u001b[39m\u001b[38;5;124m\"\u001b[39m: \u001b[43mtitles\u001b[49m\u001b[38;5;241;43m.\u001b[39;49m\u001b[43mtext\u001b[49m}]\n\u001b[1;32m     26\u001b[0m \u001b[38;5;28;01mfor\u001b[39;00m location, address, postal \u001b[38;5;129;01min\u001b[39;00m \u001b[38;5;28mzip\u001b[39m(locations, addresses, postals):\n\u001b[1;32m     27\u001b[0m     info \u001b[38;5;241m=\u001b[39m {\n\u001b[1;32m     28\u001b[0m         \u001b[38;5;124m\"\u001b[39m\u001b[38;5;124mlocation\u001b[39m\u001b[38;5;124m\"\u001b[39m: location\u001b[38;5;241m.\u001b[39mtext,\n\u001b[1;32m     29\u001b[0m         \u001b[38;5;124m\"\u001b[39m\u001b[38;5;124murl\u001b[39m\u001b[38;5;124m\"\u001b[39m: location\u001b[38;5;241m.\u001b[39mget_attribute(\u001b[38;5;124m'\u001b[39m\u001b[38;5;124mhref\u001b[39m\u001b[38;5;124m'\u001b[39m),\n\u001b[1;32m     30\u001b[0m         \u001b[38;5;124m\"\u001b[39m\u001b[38;5;124maddress\u001b[39m\u001b[38;5;124m\"\u001b[39m: address\u001b[38;5;241m.\u001b[39mtext,\n\u001b[1;32m     31\u001b[0m         \u001b[38;5;124m\"\u001b[39m\u001b[38;5;124mpostal\u001b[39m\u001b[38;5;124m\"\u001b[39m: postal\u001b[38;5;241m.\u001b[39mtext\n\u001b[1;32m     32\u001b[0m     }\n",
      "\u001b[0;31mAttributeError\u001b[0m: 'str' object has no attribute 'text'"
     ]
    }
   ],
   "source": [
    "data_to_write = scrape_and_integrate([], list_link[:100])"
   ]
  },
  {
   "cell_type": "code",
   "execution_count": null,
   "metadata": {},
   "outputs": [],
   "source": []
  }
 ],
 "metadata": {
  "kernelspec": {
   "display_name": "Python 3",
   "language": "python",
   "name": "python3"
  },
  "language_info": {
   "codemirror_mode": {
    "name": "ipython",
    "version": 3
   },
   "file_extension": ".py",
   "mimetype": "text/x-python",
   "name": "python",
   "nbconvert_exporter": "python",
   "pygments_lexer": "ipython3",
   "version": "3.9.12"
  }
 },
 "nbformat": 4,
 "nbformat_minor": 2
}
